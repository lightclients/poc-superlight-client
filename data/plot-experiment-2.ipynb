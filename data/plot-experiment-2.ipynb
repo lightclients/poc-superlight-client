{
 "cells": [
  {
   "cell_type": "code",
   "execution_count": 7,
   "metadata": {},
   "outputs": [],
   "source": [
    "import matplotlib\n",
    "import matplotlib.pyplot as plt\n",
    "import numpy as np\n",
    "import pandas as pd\n",
    "import json"
   ]
  },
  {
   "cell_type": "code",
   "execution_count": 16,
   "metadata": {},
   "outputs": [],
   "source": [
    "benchmarks_file = '../implementation/results/experiment-2.json'\n",
    "with open(benchmarks_file) as d:\n",
    "    benchmarks = json.load(d)"
   ]
  },
  {
   "cell_type": "code",
   "execution_count": 17,
   "metadata": {},
   "outputs": [],
   "source": [
    "plot_points_linear = []\n",
    "for benchmark in benchmarks:\n",
    "    client = benchmark['type']\n",
    "    chain_size = benchmark['chainSize'] / 365    \n",
    "    bytesTransferred = benchmark['bytesDownloaded'] + benchmark['bytesUploaded']\n",
    "    timeToSync = benchmark['timeToSync'] / 1000\n",
    "    n = benchmark['batchSize' if client != 'superlight' else 'treeDegree']\n",
    "    plot_points_linear.append([client, chain_size, bytesTransferred, timeToSync, n])"
   ]
  },
  {
   "cell_type": "code",
   "execution_count": 18,
   "metadata": {},
   "outputs": [],
   "source": [
    "points_df = pd.DataFrame(plot_points_linear, columns=['client', 'chain_size', 'bytesTransferred', 'timeToSync', 'n'])\n",
    "points_df_mean = points_df.groupby(['client', 'chain_size', 'n']).mean().reset_index()"
   ]
  },
  {
   "cell_type": "code",
   "execution_count": 19,
   "metadata": {},
   "outputs": [
    {
     "data": {
      "text/html": [
       "<div>\n",
       "<style scoped>\n",
       "    .dataframe tbody tr th:only-of-type {\n",
       "        vertical-align: middle;\n",
       "    }\n",
       "\n",
       "    .dataframe tbody tr th {\n",
       "        vertical-align: top;\n",
       "    }\n",
       "\n",
       "    .dataframe thead th {\n",
       "        text-align: right;\n",
       "    }\n",
       "</style>\n",
       "<table border=\"1\" class=\"dataframe\">\n",
       "  <thead>\n",
       "    <tr style=\"text-align: right;\">\n",
       "      <th></th>\n",
       "      <th>client</th>\n",
       "      <th>chain_size</th>\n",
       "      <th>n</th>\n",
       "      <th>bytesTransferred</th>\n",
       "      <th>timeToSync</th>\n",
       "    </tr>\n",
       "  </thead>\n",
       "  <tbody>\n",
       "    <tr>\n",
       "      <th>0</th>\n",
       "      <td>superlight</td>\n",
       "      <td>1.873973</td>\n",
       "      <td>2</td>\n",
       "      <td>547657.8</td>\n",
       "      <td>36.0356</td>\n",
       "    </tr>\n",
       "    <tr>\n",
       "      <th>1</th>\n",
       "      <td>superlight</td>\n",
       "      <td>1.873973</td>\n",
       "      <td>5</td>\n",
       "      <td>543620.0</td>\n",
       "      <td>22.2332</td>\n",
       "    </tr>\n",
       "    <tr>\n",
       "      <th>2</th>\n",
       "      <td>superlight</td>\n",
       "      <td>3.747945</td>\n",
       "      <td>2</td>\n",
       "      <td>586985.2</td>\n",
       "      <td>40.2298</td>\n",
       "    </tr>\n",
       "    <tr>\n",
       "      <th>3</th>\n",
       "      <td>superlight</td>\n",
       "      <td>3.747945</td>\n",
       "      <td>5</td>\n",
       "      <td>555861.0</td>\n",
       "      <td>22.3768</td>\n",
       "    </tr>\n",
       "    <tr>\n",
       "      <th>4</th>\n",
       "      <td>superlight</td>\n",
       "      <td>7.498630</td>\n",
       "      <td>2</td>\n",
       "      <td>581127.8</td>\n",
       "      <td>41.5334</td>\n",
       "    </tr>\n",
       "    <tr>\n",
       "      <th>5</th>\n",
       "      <td>superlight</td>\n",
       "      <td>7.498630</td>\n",
       "      <td>5</td>\n",
       "      <td>539748.6</td>\n",
       "      <td>22.2388</td>\n",
       "    </tr>\n",
       "    <tr>\n",
       "      <th>6</th>\n",
       "      <td>superlight</td>\n",
       "      <td>15.000000</td>\n",
       "      <td>2</td>\n",
       "      <td>590760.8</td>\n",
       "      <td>43.8692</td>\n",
       "    </tr>\n",
       "    <tr>\n",
       "      <th>7</th>\n",
       "      <td>superlight</td>\n",
       "      <td>15.000000</td>\n",
       "      <td>5</td>\n",
       "      <td>553955.6</td>\n",
       "      <td>23.3200</td>\n",
       "    </tr>\n",
       "    <tr>\n",
       "      <th>8</th>\n",
       "      <td>superlight</td>\n",
       "      <td>30.000000</td>\n",
       "      <td>2</td>\n",
       "      <td>611625.2</td>\n",
       "      <td>47.5006</td>\n",
       "    </tr>\n",
       "    <tr>\n",
       "      <th>9</th>\n",
       "      <td>superlight</td>\n",
       "      <td>30.000000</td>\n",
       "      <td>5</td>\n",
       "      <td>549340.8</td>\n",
       "      <td>25.1940</td>\n",
       "    </tr>\n",
       "  </tbody>\n",
       "</table>\n",
       "</div>"
      ],
      "text/plain": [
       "       client  chain_size  n  bytesTransferred  timeToSync\n",
       "0  superlight    1.873973  2          547657.8     36.0356\n",
       "1  superlight    1.873973  5          543620.0     22.2332\n",
       "2  superlight    3.747945  2          586985.2     40.2298\n",
       "3  superlight    3.747945  5          555861.0     22.3768\n",
       "4  superlight    7.498630  2          581127.8     41.5334\n",
       "5  superlight    7.498630  5          539748.6     22.2388\n",
       "6  superlight   15.000000  2          590760.8     43.8692\n",
       "7  superlight   15.000000  5          553955.6     23.3200\n",
       "8  superlight   30.000000  2          611625.2     47.5006\n",
       "9  superlight   30.000000  5          549340.8     25.1940"
      ]
     },
     "execution_count": 19,
     "metadata": {},
     "output_type": "execute_result"
    }
   ],
   "source": [
    "points_df_mean"
   ]
  },
  {
   "cell_type": "code",
   "execution_count": 20,
   "metadata": {},
   "outputs": [],
   "source": [
    "op_df = points_df_mean[points_df_mean['client'] == 'superlight']\n",
    "op_df_2 = op_df[points_df_mean['n'] == 2]\n",
    "slc_bt_2 = op_df_2['bytesTransferred']\n",
    "slc_tos_2 = op_df_2['timeToSync']\n",
    "slc_chain_size_2 = op_df_2['chain_size']\n",
    "\n",
    "op_df_5 = op_df[points_df_mean['n'] == 5]\n",
    "slc_bt_5 = op_df_5['bytesTransferred']\n",
    "slc_tos_5 = op_df_5['timeToSync']\n",
    "slc_chain_size_5 = op_df_5['chain_size']"
   ]
  },
  {
   "cell_type": "code",
   "execution_count": 23,
   "metadata": {},
   "outputs": [
    {
     "data": {
      "image/png": "[encoded data removed]",
      "text/plain": [
       "<Figure size 460.8x345.6 with 1 Axes>"
      ]
     },
     "metadata": {
      "needs_background": "light"
     },
     "output_type": "display_data"
    }
   ],
   "source": [
    "plt.plot(slc_chain_size_2, slc_tos_2, label ='tree degree = 2')\n",
    "plt.plot(slc_chain_size_5, slc_tos_5, label ='tree degree = 5')\n",
    "\n",
    "\n",
    "plt.xlabel('Chain Size (Years)')\n",
    "plt.ylabel('Time To Sync (Seconds)')\n",
    "plt.xscale('log')\n",
    "plt.ylim((0, 60))\n",
    "plt.legend()\n",
    "plt.rcParams[\"figure.figsize\"] = plt.rcParamsDefault[\"figure.figsize\"]\n",
    "plt.show()"
   ]
  },
  {
   "cell_type": "code",
   "execution_count": 25,
   "metadata": {},
   "outputs": [
    {
     "data": {
      "image/png": "[encoded data removed]",
      "text/plain": [
       "<Figure size 460.8x345.6 with 1 Axes>"
      ]
     },
     "metadata": {
      "needs_background": "light"
     },
     "output_type": "display_data"
    }
   ],
   "source": [
    "plt.plot(slc_chain_size_2, slc_bt_2, label ='tree degree = 2')\n",
    "plt.plot(slc_chain_size_5, slc_bt_5, label ='tree degree = 5')\n",
    "\n",
    "\n",
    "plt.xlabel('Chain Size (Years)')\n",
    "plt.ylabel('Time To Sync (Seconds)')\n",
    "plt.xscale('log')\n",
    "# plt.ylim((0, 60))\n",
    "plt.legend()\n",
    "plt.rcParams[\"figure.figsize\"] = plt.rcParamsDefault[\"figure.figsize\"]\n",
    "plt.show()"
   ]
  },
  {
   "cell_type": "code",
   "execution_count": null,
   "metadata": {},
   "outputs": [],
   "source": []
  }
 ],
 "metadata": {
  "kernelspec": {
   "display_name": "Python 3 (ipykernel)",
   "language": "python",
   "name": "python3"
  },
  "language_info": {
   "codemirror_mode": {
    "name": "ipython",
    "version": 3
   },
   "file_extension": ".py",
   "mimetype": "text/x-python",
   "name": "python",
   "nbconvert_exporter": "python",
   "pygments_lexer": "ipython3",
   "version": "3.9.13"
  }
 },
 "nbformat": 4,
 "nbformat_minor": 4
}
