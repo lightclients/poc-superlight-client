{
 "cells": [
  {
   "cell_type": "code",
   "execution_count": 81,
   "metadata": {},
   "outputs": [],
   "source": [
    "import matplotlib\n",
    "import matplotlib.pyplot as plt\n",
    "import numpy as np\n",
    "import pandas as pd\n",
    "import json"
   ]
  },
  {
   "cell_type": "code",
   "execution_count": 82,
   "metadata": {},
   "outputs": [],
   "source": [
    "benchmarks_file = '../implementation/results/experiment-0.json'\n",
    "with open(benchmarks_file) as d:\n",
    "    benchmarks = json.load(d)"
   ]
  },
  {
   "cell_type": "code",
   "execution_count": 83,
   "metadata": {},
   "outputs": [],
   "source": [
    "plot_points_linear = []\n",
    "for benchmark in benchmarks:\n",
    "    client = benchmark['type']\n",
    "    chain_size = benchmark['chainSize'] / 365    \n",
    "    bytesTransferred = benchmark['bytesDownloaded'] + benchmark['bytesUploaded']\n",
    "    timeToSync = benchmark['timeToSync'] / 1000\n",
    "    n = benchmark['batchSize' if client != 'superlight' else 'treeDegree']\n",
    "    plot_points_linear.append([client, chain_size, bytesTransferred, timeToSync, n])\n",
    "\n",
    "points_df = pd.DataFrame(plot_points_linear, columns=['client', 'chain_size', 'bytesTransferred', 'timeToSync', 'n'])\n",
    "points_df_mean = points_df.groupby(['client', 'chain_size', 'n']).mean().reset_index()"
   ]
  },
  {
   "cell_type": "code",
   "execution_count": 84,
   "metadata": {},
   "outputs": [],
   "source": [
    "olc_bt = points_df_mean[points_df_mean['client'] == 'optimisticlight']['bytesTransferred']\n",
    "olc_tos = points_df_mean[points_df_mean['client'] == 'optimisticlight']['timeToSync']\n",
    "olc_n = points_df_mean[points_df_mean['client'] == 'optimisticlight']['n']\n",
    "\n",
    "slc_bt = points_df_mean[points_df_mean['client'] == 'superlight']['bytesTransferred']\n",
    "slc_tos = points_df_mean[points_df_mean['client'] == 'superlight']['timeToSync']\n",
    "slc_n = points_df_mean[points_df_mean['client'] == 'superlight']['n']"
   ]
  },
  {
   "cell_type": "code",
   "execution_count": 85,
   "metadata": {},
   "outputs": [
    {
     "data": {
      "image/png": "[encoded data removed]",
      "text/plain": [
       "<Figure size 460.8x345.6 with 1 Axes>"
      ]
     },
     "metadata": {
      "needs_background": "light"
     },
     "output_type": "display_data"
    }
   ],
   "source": [
    "plt.plot(olc_bt, olc_tos, label ='optimisticlight')\n",
    "plt.plot(slc_bt, slc_tos, label ='superlight')\n",
    "\n",
    "plt.xlabel('Bandwith (Bytes)')\n",
    "plt.ylabel('Time To Sync (S)')\n",
    "# plt.xlim((0, 4e6))\n",
    "plt.ylim((0, 60))\n",
    "plt.legend()\n",
    "plt.rcParams[\"figure.figsize\"] = plt.rcParamsDefault[\"figure.figsize\"]\n",
    "plt.show()"
   ]
  },
  {
   "cell_type": "code",
   "execution_count": null,
   "metadata": {},
   "outputs": [],
   "source": []
  }
 ],
 "metadata": {
  "kernelspec": {
   "display_name": "Python 3 (ipykernel)",
   "language": "python",
   "name": "python3"
  },
  "language_info": {
   "codemirror_mode": {
    "name": "ipython",
    "version": 3
   },
   "file_extension": ".py",
   "mimetype": "text/x-python",
   "name": "python",
   "nbconvert_exporter": "python",
   "pygments_lexer": "ipython3",
   "version": "3.9.13"
  }
 },
 "nbformat": 4,
 "nbformat_minor": 4
}
